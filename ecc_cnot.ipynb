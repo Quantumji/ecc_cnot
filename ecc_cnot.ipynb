{
 "cells": [
  {
   "cell_type": "markdown",
   "id": "ec03da98",
   "metadata": {},
   "source": [
    "## Preambule"
   ]
  },
  {
   "cell_type": "code",
   "execution_count": 2,
   "id": "bdece10b",
   "metadata": {},
   "outputs": [],
   "source": [
    "# Preparation: Import Braket libraries\n",
    "from braket.circuits import circuit, Circuit, Gate, Moments\n",
    "from braket.circuits.instruction import Instruction\n",
    "from braket.aws import AwsQuantumTask, AwsDevice\n",
    "from braket.devices import LocalSimulator\n",
    "import matplotlib.pyplot as plt\n",
    "import csv\n",
    "\n",
    "# Preparation: Magic word for producing visualizations in notebook\n",
    "%matplotlib inline\n",
    "import numpy as np\n",
    "from math import pi"
   ]
  },
  {
   "cell_type": "code",
   "execution_count": 3,
   "id": "a7df0721",
   "metadata": {},
   "outputs": [],
   "source": [
    "def ang(ratio):\n",
    "    return 2 * np.arctan(np.sqrt(ratio))"
   ]
  },
  {
   "cell_type": "code",
   "execution_count": 4,
   "id": "fb41e4e8",
   "metadata": {},
   "outputs": [],
   "source": [
    "@circuit.subroutine(register=True)\n",
    "def ch(control, target):\n",
    "    circ = Circuit().rz(target,pi/2).cnot(control,target).rz(target,-pi/2).ry(target,-pi/4).cnot(control,target).ry(target,pi/4).s(control)\n",
    "    \n",
    "    return circ"
   ]
  },
  {
   "cell_type": "code",
   "execution_count": 5,
   "id": "a8620b6b",
   "metadata": {},
   "outputs": [],
   "source": [
    "@circuit.subroutine(register=True)\n",
    "def cry(control, target, angle):\n",
    "    circ = Circuit().ry(target,angle/2).cnot(control,target).ry(target,-angle/2).cnot(control,target)\n",
    "    \n",
    "    return circ"
   ]
  },
  {
   "cell_type": "code",
   "execution_count": 6,
   "id": "732a67bc",
   "metadata": {},
   "outputs": [],
   "source": [
    "@circuit.subroutine(register=True)\n",
    "def ccnot(controls, target):\n",
    "    cqb1, cqb2 = controls\n",
    "    circ = Circuit().h(target).cnot(cqb2,target).ti(target).cnot(cqb1,target).t(target).cnot(cqb2,target).ti(target).cnot(cqb1,target).t(target).h(target).t(cqb2).cnot(cqb1,cqb2).t(cqb1).ti(cqb2).cnot(cqb1,cqb2)\n",
    "    \n",
    "    return circ"
   ]
  },
  {
   "cell_type": "code",
   "execution_count": 7,
   "id": "deb2f6d8",
   "metadata": {},
   "outputs": [],
   "source": [
    "@circuit.subroutine(register=True)\n",
    "def mcry(ctrl, target, revctrl, theta): #theta = float(angle), ctrl = list[int], target = int\n",
    "    circ = Circuit()\n",
    "    \n",
    "    for i in revctrl:\n",
    "        circ.x(i)\n",
    "    circ.ry(target, theta/2)\n",
    "    circ.ccnot(ctrl,target)\n",
    "    circ.ry(target, -theta/2)\n",
    "    circ.ccnot(ctrl,target)\n",
    "    for i in revctrl:\n",
    "        circ.x(i)\n",
    "    \n",
    "    return circ"
   ]
  },
  {
   "cell_type": "code",
   "execution_count": 11,
   "id": "ae7cd7d0",
   "metadata": {},
   "outputs": [],
   "source": [
    "def demo_2q():\n",
    "    state_list = []\n",
    "\n",
    "    circ = Circuit().cnot(0,1)\n",
    "    state_list.append(circ)\n",
    "    \n",
    "    circ = Circuit().x(0).x(1)\n",
    "    state_list.append(circ)\n",
    "    \n",
    "    circ = Circuit().ch(0,1)\n",
    "    state_list.append(circ)\n",
    "    \n",
    "    return state_list"
   ]
  },
  {
   "cell_type": "markdown",
   "id": "29c117ee",
   "metadata": {},
   "source": [
    "## Entanglement Certifying Circuit"
   ]
  },
  {
   "cell_type": "code",
   "execution_count": 12,
   "id": "0f6da0d8",
   "metadata": {},
   "outputs": [
    {
     "name": "stdout",
     "output_type": "stream",
     "text": [
      "T  : |0|1|   2    |3|    4    |    5    |6|   7    |8| 9 |10|11|12|13|\n",
      "                                                                      \n",
      "q0 : -H-C-Rz(1.57)-X-Rz(-1.57)-Ry(-0.79)-X-Ry(0.79)-C-C---H--C--C--H--\n",
      "        |          |                     |          | |      |  |     \n",
      "q1 : -X-X----------C---------------------C-S--------X-|-C----X--X-----\n",
      "                                                      | |             \n",
      "q2 : -------------------------------------------------X-|-------------\n",
      "                                                        |             \n",
      "q3 : ---------------------------------------------------X-------------\n",
      "\n",
      "T  : |0|1|   2    |3|    4    |    5    |6|   7    |8| 9 |10|11|12|13|\n"
     ]
    }
   ],
   "source": [
    "def ecc(gate):\n",
    "    ## STATE PREPARATION\n",
    "    gate = gate\n",
    "    \n",
    "    ## ENTANGLEMENT WITNESS\n",
    "    wit = Circuit()\n",
    "    wit.x(1)\n",
    "    wit.h(0)\n",
    "    \n",
    "    wit.cnot(0,1)\n",
    "    wit.ch(1,0)\n",
    "    wit.cnot(0,1)\n",
    "    \n",
    "    wit.cnot(0,2)\n",
    "    wit.cnot(1,3)\n",
    "    \n",
    "    wit.h(0)\n",
    "    wit.cnot(0,1)\n",
    "    \n",
    "    circ = wit + gate + Circuit().h(0)\n",
    "    return circ\n",
    "\n",
    "# Demo\n",
    "state_list = demo_2q()\n",
    "print(ecc(state_list[0]))"
   ]
  },
  {
   "cell_type": "code",
   "execution_count": 18,
   "id": "fc5aff96",
   "metadata": {},
   "outputs": [
    {
     "name": "stdout",
     "output_type": "stream",
     "text": [
      "{'0110': 130, '0010': 125, '1111': 269, '1110': 117, '1011': 268, '0011': 278, '1101': 125, '1001': 131, '1010': 112, '0111': 243, '0101': 128, '0001': 122, 'value': 0.25634765625}\n",
      "Expectation Value Outcomes\n",
      "0.25634765625\n",
      "{'00': 525, '01': 501, '10': 511, '11': 511}\n",
      "Noise rate: 6.40869140625\n",
      "The given gate is not capable of generating entanglement.\n"
     ]
    },
    {
     "data": {
      "image/png": "[encoded data removed]",
      "text/plain": [
       "<Figure size 640x480 with 1 Axes>"
      ]
     },
     "metadata": {},
     "output_type": "display_data"
    }
   ],
   "source": [
    "def certify_cnot(gate, shots, device, bucket_name, prefix, filename):\n",
    "    # Initial sequences\n",
    "    import numpy\n",
    "    shots = shots\n",
    "    device = AwsDevice(device)\n",
    "    my_bucket = bucket_name # the name of the bucket: \"amazon-braket-qitkaistuser3\"\n",
    "    my_prefix = prefix # the name of the folder in the bucket: \"observable-output\"\n",
    "    s3_folder = (my_bucket, my_prefix)\n",
    "    \n",
    "    # Set bitstrings for data collection\n",
    "    format_bitstring = '{0:0' + str(4) + 'b}'\n",
    "    bitstring_keys = [format_bitstring.format(ii) for ii in range(2**4)]\n",
    "    header = ['value'] + [format_bitstring.format(ii) for ii in range(2**4)]\n",
    "\n",
    "    # Prepare the entanglement certifying circuit with the certified gate\n",
    "    circ = ecc(gate)\n",
    "    \n",
    "    # Execute CNOT certification and Collect the measurement outcome\n",
    "    task = device.run(circ, s3_folder, shots)\n",
    "    counts = task.result().measurement_counts\n",
    "    value = 0\n",
    "    for bitstring in counts.keys():\n",
    "        if bitstring[0:2] == '00':\n",
    "            value += counts[bitstring]\n",
    "    value = value/shots\n",
    "    entry = dict(counts)\n",
    "    entry.update({'value': value})\n",
    "    print(entry)\n",
    "\n",
    "    print(\"Expectation Value Outcomes\")\n",
    "    print(value)\n",
    "    \n",
    "    # Data post-processing: tracing out the ancillae\n",
    "    reduced_bitstring = '{0:0' + str(2) + 'b}'\n",
    "    reduced_bitstring_keys = [reduced_bitstring.format(ii) for ii in range(2**2)]\n",
    "    redata = dict()\n",
    "    for bitstring in reduced_bitstring_keys:\n",
    "        redata.update({bitstring: 0})\n",
    "    for bitstring in counts.keys():\n",
    "        redata[bitstring[0:2]] += counts[bitstring]\n",
    "    print(redata)\n",
    "\n",
    "    check = 0\n",
    "    for key in redata.keys():\n",
    "        check += redata[key]\n",
    "        redata[key] /= 2048\n",
    "        \n",
    "    if check != 2048:\n",
    "        print(\"Fatal error occured!\")\n",
    "    noise = redata['00'] * 100 / 4\n",
    "    print(\"Noise rate: \" + str(noise))\n",
    "    if (redata['00'] < 0.125) or (redata['00'] > 0.375):\n",
    "        print(\"The given gate is capable of generating entanglement.\")\n",
    "    else:\n",
    "        print(\"The given gate is not capable of generating entanglement.\")\n",
    "\n",
    "    # Plot the measurement outcome with the ancillae traced out\n",
    "    plt.rc('xtick', labelsize=20)\n",
    "    plt.rc('ytick', labelsize=20)\n",
    "    plt.rc('axes', labelsize=12) \n",
    "    plt.bar(redata.keys(), redata.values())\n",
    "    plt.xlabel('Bitstrings')\n",
    "    plt.ylabel('Probability')\n",
    "    \n",
    "    # Name of csv file \n",
    "    filename = filename # \"patent_demo_aria_cn_sv1.csv\"\n",
    "    # Writing to csv file \n",
    "    with open(filename, 'w') as csvfile: \n",
    "        # creating a csv dict writer object \n",
    "        writer = csv.DictWriter(csvfile, fieldnames = header)      \n",
    "        # writing headers (field names) \n",
    "        writer.writeheader()\n",
    "        writer.writerows([entry])\n",
    "        \n",
    "certify_cnot(Circuit().x(0).x(1), 2048, \"arn:aws:braket:::device/quantum-simulator/amazon/sv1\", \"amazon-braket-qitkaistuser3\", \"observable-output\", \"patent_demo_sv1_cn.csv\")"
   ]
  },
  {
   "cell_type": "code",
   "execution_count": null,
   "id": "8fa82d48",
   "metadata": {},
   "outputs": [],
   "source": []
  }
 ],
 "metadata": {
  "kernelspec": {
   "display_name": "conda_braket",
   "language": "python",
   "name": "conda_braket"
  },
  "language_info": {
   "codemirror_mode": {
    "name": "ipython",
    "version": 3
   },
   "file_extension": ".py",
   "mimetype": "text/x-python",
   "name": "python",
   "nbconvert_exporter": "python",
   "pygments_lexer": "ipython3",
   "version": "3.10.11"
  }
 },
 "nbformat": 4,
 "nbformat_minor": 5
}
